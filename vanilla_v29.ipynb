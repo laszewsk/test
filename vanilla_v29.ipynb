{
  "nbformat": 4,
  "nbformat_minor": 0,
  "metadata": {
    "colab": {
      "name": "vanilla-v29.ipynb",
      "provenance": [],
      "authorship_tag": "ABX9TyMBOLE67OG+knKKqm+sWuuU",
      "include_colab_link": true
    },
    "kernelspec": {
      "name": "python3",
      "display_name": "Python 3"
    },
    "language_info": {
      "name": "python"
    }
  },
  "cells": [
    {
      "cell_type": "markdown",
      "metadata": {
        "id": "view-in-github",
        "colab_type": "text"
      },
      "source": [
        "<a href=\"https://colab.research.google.com/github/laszewsk/test/blob/main/vanilla_v29.ipynb\" target=\"_parent\"><img src=\"https://colab.research.google.com/assets/colab-badge.svg\" alt=\"Open In Colab\"/></a>"
      ]
    },
    {
      "cell_type": "code",
      "execution_count": 2,
      "metadata": {
        "id": "kxzrKYh-OaXY",
        "colab": {
          "base_uri": "https://localhost:8080/"
        },
        "outputId": "80e557e6-5d71-4d4d-ce4d-a51b5fa4c363"
      },
      "outputs": [
        {
          "output_type": "stream",
          "name": "stdout",
          "text": [
            "hello\n",
            "world\n",
            "universe\n"
          ]
        }
      ],
      "source": [
        "print(\"hello\")\n",
        "print(\"world\")\n",
        "print(\"universe\")"
      ]
    }
  ]
}