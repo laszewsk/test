{
  "nbformat": 4,
  "nbformat_minor": 0,
  "metadata": {
    "colab": {
      "name": "vanilla-run1.ipynb",
      "provenance": [],
      "authorship_tag": "ABX9TyPKaU2TFzTU+j2DR+aw/u+3",
      "include_colab_link": true
    },
    "kernelspec": {
      "name": "python3",
      "display_name": "Python 3"
    },
    "language_info": {
      "name": "python"
    }
  },
  "cells": [
    {
      "cell_type": "markdown",
      "metadata": {
        "id": "view-in-github",
        "colab_type": "text"
      },
      "source": [
        "<a href=\"https://colab.research.google.com/github/laszewsk/test/blob/main/vanilla_run1.ipynb\" target=\"_parent\"><img src=\"https://colab.research.google.com/assets/colab-badge.svg\" alt=\"Open In Colab\"/></a>"
      ]
    },
    {
      "cell_type": "code",
      "execution_count": 1,
      "metadata": {
        "id": "kxzrKYh-OaXY",
        "colab": {
          "base_uri": "https://localhost:8080/"
        },
        "outputId": "727f408e-8f12-402c-8c5c-a63f9d91867e"
      },
      "outputs": [
        {
          "output_type": "stream",
          "name": "stdout",
          "text": [
            "hello\n",
            "world\n"
          ]
        }
      ],
      "source": [
        "print(\"hello\")\n",
        "print(\"world\")"
      ]
    }
  ]
}